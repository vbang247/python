{
  "nbformat": 4,
  "nbformat_minor": 0,
  "metadata": {
    "colab": {
      "name": "Technin510_L1_ListenBot.ipynb",
      "provenance": [],
      "collapsed_sections": [],
      "toc_visible": true,
      "include_colab_link": true
    },
    "kernelspec": {
      "name": "python3",
      "display_name": "Python 3"
    },
    "language_info": {
      "name": "python"
    }
  },
  "cells": [
    {
      "cell_type": "markdown",
      "metadata": {
        "id": "view-in-github",
        "colab_type": "text"
      },
      "source": [
        "<a href=\"https://colab.research.google.com/github/vbang247/python/blob/main/Technin510_L1_ListenBot.ipynb\" target=\"_parent\"><img src=\"https://colab.research.google.com/assets/colab-badge.svg\" alt=\"Open In Colab\"/></a>"
      ]
    },
    {
      "cell_type": "markdown",
      "metadata": {
        "id": "HjjWkiHteh-B"
      },
      "source": [
        "# Lab 1: Practicing Python basics\n",
        "\n",
        "This file supplements the  TECHIN 510 [Lab 1](https://sites.google.com/view/technin510au21/labs/lab-1) instuctions and is a template for student submissions.\n",
        "\n",
        "* **Student name:** Louis Quicksell\n",
        "* **Student id:** 1234567\n",
        "\n",
        "*TODO: Edit this part with your information*\n",
        "\n"
      ]
    },
    {
      "cell_type": "markdown",
      "metadata": {
        "id": "2UQuCdJ9ifTS"
      },
      "source": [
        "## Step 1: Get started with Colaboratory\n",
        "\n",
        "In this lab we will start practicing Python with Jupyter notebook on Colaboratory, rather than installing Python and Jupyter locally on your computer. Your submission for the lab will be in the form of an .ipynb file which can be created, tested, and shared directly from a Google Drive. Hence we recommend creating a folder in your UW-associated Google drive for working on your labs. Under this folder, create a sub-folder named `lab-1/`. Then copy this file `chatbot.ipynb` into the folder you created, through File > Save a copy in Drive..\n"
      ]
    },
    {
      "cell_type": "markdown",
      "metadata": {
        "id": "7XcsVPX1hfir"
      },
      "source": [
        "## Step 2: Barebones interactive chatbot\n",
        "You will first create a simple interactive loop between user input and program output. Before entering the loop, your program should prompt the user to request their input (e.g. \"Hi, how can I help you?\"). At each iteration of the loop, the program should take user input (typed onto the terminal pressing 'Enter' at the end) and then output simple meta information about that input (e.g. \"You entered X letters and Y words\"). Also add a way to exit the loop; for example, if the user types \"Bye\" the loop should end and your program should halt after a final prompt to the user to acknowledge that the interaction has ended. Add your code below."
      ]
    },
    {
      "cell_type": "code",
      "metadata": {
        "id": "kW7050M6fHI8",
        "colab": {
          "base_uri": "https://localhost:8080/"
        },
        "outputId": "6823d597-8e37-40f7-c982-291817e378c2"
      },
      "source": [
        "## Barebones interactice chatbot\n",
        "\n",
        "# TODO: Implement the described barebones interactive system\n",
        "\n",
        "while True:\n",
        "  user_data = input(\"How may I help you \")\n",
        "  print(\"You entered {} letters and {} words\\n\".format(len(user_data), len(user_data.split(' '))))\n",
        "  if (user_data == 'Bye') | ('quit' in user_data):\n",
        "    break\n"
      ],
      "execution_count": 11,
      "outputs": [
        {
          "output_type": "stream",
          "name": "stdout",
          "text": [
            "How may I help you how are you\n",
            "You entered 11 letters and 3 words\n",
            "\n",
            "How may I help you Okay I ask\n",
            "You entered 10 letters and 3 words\n",
            "\n",
            "How may I help you Bye\n",
            "You entered 3 letters and 1 words\n",
            "\n"
          ]
        }
      ]
    },
    {
      "cell_type": "markdown",
      "metadata": {
        "id": "VRgRjjsgiY_S"
      },
      "source": [
        "## Step 3: Simple ListenBot\n",
        "\n",
        "Next you will upgrade your chatbot to be a \"good listener.\" Do not worry about deleting or overwriting things you did in the previous step. Before entering into the interactive loop, your chatbot should ask the user's name and remember it throughout the chat. It should also prompt the user to talk about something (e.g. \"How was your day, Ashitaka?\") As part of the loop, the chatbot should analyze the user's input and decide whether to give a positive, negative, or neutral response. To analyze the input, make a fixed list of [positive](http://ptrckprry.com/course/ssd/data/positive-words.txt) and [negative](http://ptrckprry.com/course/ssd/data/negative-words.txt) words and determine the number of positive and negative words that occur in the user's input. Your list of positive and negative words do not have to be too long, just enough to showcase a simple conversation. Optionally you can download the lists linked above and load them into your program.\n",
        "\n",
        "The chatbot should respond based on the number of positive and negative words in the user's input. Your chatbot should have at least two different responses of each type and should alternate between responses, e.g.:\n",
        "* Positive responses: \"Great\" \"Cool\"\n",
        "* Negative responses: \"That sucks\" \"Bummer\"\n",
        "* Neutral responses: \"Hmm..\" \"I see\"\n",
        "\n",
        "As before, there should be at least one way to end the conversation. You can make the ways to end the conversation known to the user in your earlier prompt or somewhere during the conversation. Add your updated code below.\n"
      ]
    },
    {
      "cell_type": "code",
      "metadata": {
        "id": "8WiupzlgkVLQ",
        "outputId": "69ce5098-9607-44f0-fafc-90aff0635c50",
        "colab": {
          "base_uri": "https://localhost:8080/"
        }
      },
      "source": [
        "## Simple ListenBot\n",
        "import pandas as pd\n",
        "import urllib\n",
        "import random\n",
        "# TODO: Implement ListenBot by extending the barebones interactive chatbot\n",
        "user_name = input('Enter user name\\n')\n",
        "positive = list(pd.read_csv('https://ptrckprry.com/course/ssd/data/positive-words.txt', header=33).iloc[:,0])\n",
        "negative = list(pd.read_csv('https://ptrckprry.com/course/ssd/data/negative-words.txt', header=33, encoding='latin-1').iloc[:,0])\n",
        "\n",
        "file = urllib.request.urlopen('https://ptrckprry.com/course/ssd/data/negative-words.txt').read().splitlines()\n",
        "negative_list = []\n",
        "for i in file[35:]:\n",
        "  try:\n",
        "    negative_list.append(i.decode('utf-8'))\n",
        "  except:\n",
        "    print(\"The word throwing error is {}\".format(i))\n",
        "\n",
        "\n",
        "positive_responses = ['Great', 'Cool']\n",
        "negative_responses = ['That sucks', 'Bummer']\n",
        "neutral_responses = ['Hmm..', 'I see']\n",
        "\n",
        "print('Hi')\n",
        "\n",
        "while True:\n",
        "  get_mood = input('How was your day {} ?'.format(user_name)).lower()\n",
        "  is_response_positive = bool(set(get_mood.split(' ')).intersection(positive))\n",
        "  is_response_negative = bool(set(get_mood.split(' ')).intersection(negative))\n",
        "  print(\"You entered {} letters and {} words\\n\".format(len(user_data), len(user_data.split(' '))))\n",
        "  if is_response_positive:\n",
        "    print(random.choice(positive_responses))\n",
        "  elif is_response_negative:\n",
        "    print(random.choice(negative_responses))\n",
        "  else:\n",
        "    print(random.choice(neutral_responses))\n",
        "\n",
        "  if (get_mood == 'bye') | ('quit' in get_mood):\n",
        "    break"
      ],
      "execution_count": 3,
      "outputs": [
        {
          "name": "stdout",
          "output_type": "stream",
          "text": [
            "Enter user name\n",
            "varsha\n",
            "The word throwing error is b'na\\xefve'\n",
            "Hi\n",
            "How was your day varsha ?quit\n"
          ]
        }
      ]
    },
    {
      "cell_type": "markdown",
      "metadata": {
        "id": "l5q1oLOukjTz"
      },
      "source": [
        "## Step 4: Improved Listenbot\n",
        "\n",
        "Now test your chatbot with a classmate or friend. Based on breakdowns or awkwardness in these tests choose at least one additional improvement and implement it below. Make sure to descibe your improvement in the list below."
      ]
    },
    {
      "cell_type": "code",
      "metadata": {
        "id": "xEh_o5y4lBc3"
      },
      "source": [
        "## Improved ListenBot\n",
        "\n",
        "# TODO: Implement improved ListenBot that addresses at least one breakdown of the original ListenBot"
      ],
      "execution_count": null,
      "outputs": []
    },
    {
      "cell_type": "markdown",
      "metadata": {
        "id": "js1PgVZqlQ7a"
      },
      "source": [
        "### List of improvements\n",
        "* *TODO: Describe your improvements*"
      ]
    },
    {
      "cell_type": "markdown",
      "metadata": {
        "id": "gHrOyaM5qCvV"
      },
      "source": [
        "## Step 5: Submit your solution on Canvas\n",
        "\n",
        "Complete this lab by submitting a link to your `chatbot.ipynb` on [Canvas](https://canvas.uw.edu/courses/1332776/assignments/5018721), by Oct 6 Tuesday, 11:59pm. You can obtain this link through Share > Copy Link (with 'Anyone with the link can view' setting). We will test your chatbot with a simple dialog to verify that:\n",
        "\n",
        "* It asks for the user's name and demonstrates that it remembers the name\n",
        "* Responds appropriately to a clearly positive, negative, and neutral statement\n",
        "* Has a way of ending the chat\n",
        "\n",
        "We will inspect the code in addition to the interaction to make sure that an improvement was implemented for Step 4. See Canvas for a grading rubric."
      ]
    }
  ]
}