{
  "nbformat": 4,
  "nbformat_minor": 0,
  "metadata": {
    "colab": {
      "name": "MSIS549_HW1_newswires.ipynb",
      "provenance": [],
      "collapsed_sections": [],
      "include_colab_link": true
    },
    "language_info": {
      "codemirror_mode": {
        "name": "ipython",
        "version": 3
      },
      "file_extension": ".py",
      "mimetype": "text/x-python",
      "name": "python",
      "nbconvert_exporter": "python",
      "pygments_lexer": "ipython3",
      "version": "3.5.2"
    },
    "kernelspec": {
      "display_name": "Python 3",
      "language": "python",
      "name": "python3"
    }
  },
  "cells": [
    {
      "cell_type": "markdown",
      "metadata": {
        "id": "view-in-github",
        "colab_type": "text"
      },
      "source": [
        "<a href=\"https://colab.research.google.com/github/vbang247/python/blob/main/MSIS549_HW1_newswires.ipynb\" target=\"_parent\"><img src=\"https://colab.research.google.com/assets/colab-badge.svg\" alt=\"Open In Colab\"/></a>"
      ]
    },
    {
      "cell_type": "code",
      "metadata": {
        "id": "_0lDkFZq3ohI",
        "colab": {
          "base_uri": "https://localhost:8080/"
        },
        "outputId": "4f42a7a3-1d2f-462c-fc03-244b3111d1b6"
      },
      "source": [
        "%tensorflow_version 2.8.0\n",
        "%matplotlib inline\n",
        "import warnings\n",
        "warnings.filterwarnings('ignore')\n",
        "\n",
        "import tensorflow as tf\n",
        "tf.autograph.set_verbosity(0)\n",
        "\n",
        "import keras\n",
        "keras.__version__\n",
        "\n",
        "import numpy as np\n",
        "from tensorflow import keras\n",
        "from tensorflow.python.keras.layers import Dense\n",
        "from keras import callbacks\n",
        "from keras.callbacks import EarlyStopping"
      ],
      "execution_count": null,
      "outputs": [
        {
          "output_type": "stream",
          "name": "stdout",
          "text": [
            "`%tensorflow_version` only switches the major version: 1.x or 2.x.\n",
            "You set: `2.8.0`. This will be interpreted as: `2.x`.\n",
            "\n",
            "\n",
            "TensorFlow 2.x selected.\n"
          ]
        }
      ]
    },
    {
      "cell_type": "markdown",
      "metadata": {
        "id": "bu5jf9gW3ohR"
      },
      "source": [
        "# Classifying newswires: a multi-class classification example\n",
        "\n",
        "In this homework, we will build a network to classify Reuters newswires into 46 different mutually-exclusive topics. Since we have many \n",
        "classes, this problem is an instance of \"multi-class classification\", and since each data point should be classified into only one \n",
        "category, the problem is more specifically an instance of \"single-label, multi-class classification\"."
      ]
    },
    {
      "cell_type": "markdown",
      "metadata": {
        "id": "_-s49gXW3ohT"
      },
      "source": [
        "## The Reuters dataset\n",
        "\n",
        "\n",
        "We will be working with the _Reuters dataset_, a set of short newswires and their topics, published by Reuters in 1986. It's a very simple, \n",
        "widely used toy dataset for text classification. There are 46 different topics; some topics are more represented than others, but each \n",
        "topic has at least 10 examples in the training set.\n",
        "\n",
        "Like IMDB and MNIST, the Reuters dataset comes packaged as part of Keras. Let's take a look right away:"
      ]
    },
    {
      "cell_type": "code",
      "metadata": {
        "id": "yjSiBNZS3ohU"
      },
      "source": [
        "from keras.datasets import reuters\n",
        "\n",
        "(train_data, train_labels), (test_data, test_labels) = reuters.load_data(num_words=10000)"
      ],
      "execution_count": null,
      "outputs": []
    },
    {
      "cell_type": "markdown",
      "metadata": {
        "id": "-VRrIjNI3ohX"
      },
      "source": [
        "\n",
        "Like with the IMDB dataset, the argument `num_words=10000` restricts the data to the 10,000 most frequently occurring words found in the \n",
        "data.\n",
        "\n",
        "We have 8,982 training examples and 2,246 test examples:"
      ]
    },
    {
      "cell_type": "markdown",
      "metadata": {
        "id": "FMdiLzvF3ohf"
      },
      "source": [
        "As with the IMDB reviews, each example is a list of integers (word indices):"
      ]
    },
    {
      "cell_type": "code",
      "metadata": {
        "id": "QriVgMSe3ohg",
        "colab": {
          "base_uri": "https://localhost:8080/"
        },
        "outputId": "e4b848df-1117-4812-f38d-48fbdb3defd7"
      },
      "source": [
        "train_data[:1]"
      ],
      "execution_count": null,
      "outputs": [
        {
          "output_type": "execute_result",
          "data": {
            "text/plain": [
              "array([list([1, 2, 2, 8, 43, 10, 447, 5, 25, 207, 270, 5, 3095, 111, 16, 369, 186, 90, 67, 7, 89, 5, 19, 102, 6, 19, 124, 15, 90, 67, 84, 22, 482, 26, 7, 48, 4, 49, 8, 864, 39, 209, 154, 6, 151, 6, 83, 11, 15, 22, 155, 11, 15, 7, 48, 9, 4579, 1005, 504, 6, 258, 6, 272, 11, 15, 22, 134, 44, 11, 15, 16, 8, 197, 1245, 90, 67, 52, 29, 209, 30, 32, 132, 6, 109, 15, 17, 12])],\n",
              "      dtype=object)"
            ]
          },
          "metadata": {},
          "execution_count": 3
        }
      ]
    },
    {
      "cell_type": "markdown",
      "metadata": {
        "id": "kIvaOPin3ohj"
      },
      "source": [
        "Here's how you can decode it back to words, in case you are curious:"
      ]
    },
    {
      "cell_type": "code",
      "metadata": {
        "id": "EZg6ME3Y3ohk",
        "colab": {
          "base_uri": "https://localhost:8080/"
        },
        "outputId": "30e04860-2abe-488c-8fab-d971119428e6"
      },
      "source": [
        "word_index = reuters.get_word_index()\n",
        "\n",
        "inverted_word_index = dict((i, word) for (word, i) in word_index.items())\n",
        "# Note that our indices were offset by 3\n",
        "# because 0, 1 and 2 are reserved indices for \"padding\", \"start of sequence\", and \"unknown\".\n",
        "decoded_newswire = ' '.join([inverted_word_index.get(i - 3, '?') for i in train_data[0]])\n",
        "\n",
        "print(\"The decoded text:\" + decoded_newswire)"
      ],
      "execution_count": null,
      "outputs": [
        {
          "output_type": "stream",
          "name": "stdout",
          "text": [
            "The decoded text:? ? ? said as a result of its december acquisition of space co it expects earnings per share in 1987 of 1 15 to 1 30 dlrs per share up from 70 cts in 1986 the company said pretax net should rise to nine to 10 mln dlrs from six mln dlrs in 1986 and rental operation revenues to 19 to 22 mln dlrs from 12 5 mln dlrs it said cash flow per share this year should be 2 50 to three dlrs reuter 3\n"
          ]
        }
      ]
    },
    {
      "cell_type": "markdown",
      "metadata": {
        "id": "yntI1JS33oho"
      },
      "source": [
        "The label associated with an example is an integer between 0 and 45: a topic index."
      ]
    },
    {
      "cell_type": "code",
      "metadata": {
        "id": "swMqUzqz3ohq",
        "colab": {
          "base_uri": "https://localhost:8080/"
        },
        "outputId": "541d8e86-8c4f-4d3b-fdbc-989e956f2796"
      },
      "source": [
        "train_labels[:10]"
      ],
      "execution_count": null,
      "outputs": [
        {
          "output_type": "execute_result",
          "data": {
            "text/plain": [
              "array([ 3,  4,  3,  4,  4,  4,  4,  3,  3, 16])"
            ]
          },
          "metadata": {},
          "execution_count": 5
        }
      ]
    },
    {
      "cell_type": "markdown",
      "metadata": {
        "id": "fsLn40NK3oht"
      },
      "source": [
        "## Preparing the data\n",
        "\n",
        "We can vectorize the data with the exact same code as in our previous example:"
      ]
    },
    {
      "cell_type": "code",
      "metadata": {
        "id": "NDol7z_43ohu"
      },
      "source": [
        "import numpy as np\n",
        "\n",
        "def vectorize_sequences(sequences, dimension=10000):\n",
        "    results = np.zeros((len(sequences), dimension))\n",
        "    for i, sequence in enumerate(sequences):\n",
        "    # it is a numpy array and that's why it will put one in the index that is present from 0 to 10000. For those missing it will put 0.\n",
        "    #Example: for train[0] the integer 3, 13, 14,... are missing \n",
        "        results[i, sequence] = 1.\n",
        "    return results\n",
        "\n",
        "# Our vectorized training data\n",
        "x_train = vectorize_sequences(train_data)\n",
        "x_train[0]\n",
        "# Our vectorized test data\n",
        "x_test = vectorize_sequences(test_data)\n",
        "# print(x_train[0, :20])\n",
        "# print(enumerate(train_data[:5]))"
      ],
      "execution_count": null,
      "outputs": []
    },
    {
      "cell_type": "markdown",
      "metadata": {
        "id": "9pte7Qr63ohv"
      },
      "source": [
        "\n",
        "Use \"one-hot\" encoding to vectorize the labels. One-hot encoding is a widely used format for categorical data, also called \"categorical encoding\". In our case, one-hot encoding of our labels consists in embedding each label as an all-zero vector with a 1 in the place of the label index. Note that there is a built-in way to do this in Keras."
      ]
    },
    {
      "cell_type": "code",
      "metadata": {
        "id": "XO_SmjOD3ohy"
      },
      "source": [
        "from keras.utils.np_utils import to_categorical\n",
        "\n",
        "one_hot_train_labels = to_categorical(train_labels)\n",
        "one_hot_test_labels = to_categorical(test_labels)"
      ],
      "execution_count": null,
      "outputs": []
    },
    {
      "cell_type": "markdown",
      "metadata": {
        "id": "rMvTFcc03ohz"
      },
      "source": [
        "## Building our network\n",
        "\n",
        "\n",
        "This topic classification problem looks very similar to our previous movie review classification problem: in both cases, we are trying to \n",
        "classify short snippets of text. There is however a new constraint here: the number of output classes has gone from 2 to 46, i.e. the \n",
        "dimensionality of the output space is much larger. \n",
        "\n",
        "In a stack of `Dense` layers like what we were using, each layer can only access information present in the output of the previous layer. \n",
        "If one layer drops some information relevant to the classification problem, this information can never be recovered by later layers: each \n",
        "layer can potentially become an \"information bottleneck\". In our previous example, we were using 16-dimensional intermediate layers, but a \n",
        "16-dimensional space may be too limited to learn to separate 46 different classes: such small layers may act as information bottlenecks, \n",
        "permanently dropping relevant information.\n",
        "\n",
        "For this reason we will use larger layers. Let's go with 64 units:"
      ]
    },
    {
      "cell_type": "code",
      "metadata": {
        "id": "HdhwRTjx3ohz",
        "colab": {
          "base_uri": "https://localhost:8080/"
        },
        "outputId": "f38f4b29-62ad-48a2-fba1-0f47736ac4ff"
      },
      "source": [
        "from keras import models\n",
        "from keras import layers\n",
        "\n",
        "# TODO: specify the architecture of the model.\n",
        "model = models.Sequential()\n",
        "model.add(layers.Dense(64, activation=\"relu\",input_shape=(10000,)))\n",
        "model.add(layers.Dense(64, activation=\"relu\"))\n",
        "model.add(layers.Dense(46, activation=\"softmax\"))\n",
        "model.summary()\n",
        "\n",
        "# calculation of params\n",
        "# input 10,000 * 64 neurons + (every input is connected to each neuron. So for every neuron it is 10000 + 1 bias. There are 64 neurons. Thus 64 bias)\n",
        "# for 2nd hidden layer it would be (64 inputs from hidden layer 1 * 64) + 64\n",
        "# for 3rd layer it is (64 * 46) + 46 "
      ],
      "execution_count": null,
      "outputs": [
        {
          "output_type": "stream",
          "name": "stdout",
          "text": [
            "Model: \"sequential\"\n",
            "_________________________________________________________________\n",
            " Layer (type)                Output Shape              Param #   \n",
            "=================================================================\n",
            " dense (Dense)               (None, 64)                640064    \n",
            "                                                                 \n",
            " dense_1 (Dense)             (None, 64)                4160      \n",
            "                                                                 \n",
            " dense_2 (Dense)             (None, 46)                2990      \n",
            "                                                                 \n",
            "=================================================================\n",
            "Total params: 647,214\n",
            "Trainable params: 647,214\n",
            "Non-trainable params: 0\n",
            "_________________________________________________________________\n"
          ]
        }
      ]
    },
    {
      "cell_type": "markdown",
      "metadata": {
        "id": "V-Aj666N3oh1"
      },
      "source": [
        "\n",
        "There are two other things you should note about this architecture:\n",
        "\n",
        "* We are ending the network with a `Dense` layer of size 46. This means that for each input sample, our network will output a \n",
        "46-dimensional vector. Each entry in this vector (each dimension) will encode a different output class.\n",
        "* The last layer uses a `softmax` activation. You have already seen this pattern in the MNIST example. It means that the network will \n",
        "output a _probability distribution_ over the 46 different output classes, i.e. for every input sample, the network will produce a \n",
        "46-dimensional output vector where `output[i]` is the probability that the sample belongs to class `i`. The 46 scores will sum to 1.\n",
        "\n",
        "The best loss function to use in this case is `categorical_crossentropy`. It measures the distance between two probability distributions: \n",
        "in our case, between the probability distribution output by our network, and the true distribution of the labels. By minimizing the \n",
        "distance between these two distributions, we train our network to output something as close as possible to the true labels."
      ]
    },
    {
      "cell_type": "code",
      "metadata": {
        "id": "AhmA6zNZ3oh1"
      },
      "source": [
        "# TODO: compile the model you just built\n",
        "model.compile(loss='categorical_crossentropy', optimizer='rmsprop',metrics=['accuracy'])"
      ],
      "execution_count": null,
      "outputs": []
    },
    {
      "cell_type": "markdown",
      "metadata": {
        "id": "TGB_cp8B3oh2"
      },
      "source": [
        "## Validating our approach\n",
        "\n",
        "Let's set apart 1,000 samples in our training data to use as a validation set:"
      ]
    },
    {
      "cell_type": "code",
      "metadata": {
        "id": "Y3eyzgOA3oh2"
      },
      "source": [
        "x_val = x_train[:1000]\n",
        "partial_x_train = x_train[1000:]\n",
        "\n",
        "y_val = one_hot_train_labels[:1000]\n",
        "partial_y_train = one_hot_train_labels[1000:]"
      ],
      "execution_count": null,
      "outputs": []
    },
    {
      "cell_type": "markdown",
      "metadata": {
        "id": "vIFUZkt43oh3"
      },
      "source": [
        "Now let's train our network for 20 epochs:"
      ]
    },
    {
      "cell_type": "code",
      "metadata": {
        "id": "MM57jbod3oh3",
        "colab": {
          "base_uri": "https://localhost:8080/"
        },
        "outputId": "bba8a811-c48f-48e7-87d9-dc4222b82bb0"
      },
      "source": [
        "# TODO: fit the model with the training dataset and provide validation data \n",
        "# to help check overfitting\n",
        "history = model.fit(partial_x_train, \n",
        "                    partial_y_train,\n",
        "                    epochs=20,\n",
        "                    batch_size=512,\n",
        "                    validation_data=(x_val,y_val))"
      ],
      "execution_count": null,
      "outputs": [
        {
          "output_type": "stream",
          "name": "stdout",
          "text": [
            "Epoch 1/20\n",
            "16/16 [==============================] - 3s 65ms/step - loss: 2.5668 - accuracy: 0.5331 - val_loss: 1.6977 - val_accuracy: 0.6400\n",
            "Epoch 2/20\n",
            "16/16 [==============================] - 1s 47ms/step - loss: 1.3897 - accuracy: 0.7018 - val_loss: 1.2780 - val_accuracy: 0.7220\n",
            "Epoch 3/20\n",
            "16/16 [==============================] - 1s 47ms/step - loss: 1.0227 - accuracy: 0.7799 - val_loss: 1.1147 - val_accuracy: 0.7470\n",
            "Epoch 4/20\n",
            "16/16 [==============================] - 1s 49ms/step - loss: 0.8029 - accuracy: 0.8271 - val_loss: 1.0368 - val_accuracy: 0.7810\n",
            "Epoch 5/20\n",
            "16/16 [==============================] - 1s 48ms/step - loss: 0.6417 - accuracy: 0.8675 - val_loss: 0.9763 - val_accuracy: 0.7880\n",
            "Epoch 6/20\n",
            "16/16 [==============================] - 1s 46ms/step - loss: 0.5139 - accuracy: 0.8950 - val_loss: 0.9319 - val_accuracy: 0.8060\n",
            "Epoch 7/20\n",
            "16/16 [==============================] - 1s 46ms/step - loss: 0.4127 - accuracy: 0.9143 - val_loss: 0.9709 - val_accuracy: 0.7890\n",
            "Epoch 8/20\n",
            "16/16 [==============================] - 1s 45ms/step - loss: 0.3401 - accuracy: 0.9257 - val_loss: 0.9154 - val_accuracy: 0.8100\n",
            "Epoch 9/20\n",
            "16/16 [==============================] - 1s 46ms/step - loss: 0.2831 - accuracy: 0.9389 - val_loss: 0.9324 - val_accuracy: 0.8120\n",
            "Epoch 10/20\n",
            "16/16 [==============================] - 1s 46ms/step - loss: 0.2379 - accuracy: 0.9445 - val_loss: 0.9213 - val_accuracy: 0.8120\n",
            "Epoch 11/20\n",
            "16/16 [==============================] - 1s 47ms/step - loss: 0.2093 - accuracy: 0.9479 - val_loss: 0.9562 - val_accuracy: 0.8090\n",
            "Epoch 12/20\n",
            "16/16 [==============================] - 1s 47ms/step - loss: 0.1836 - accuracy: 0.9509 - val_loss: 1.0302 - val_accuracy: 0.7990\n",
            "Epoch 13/20\n",
            "16/16 [==============================] - 1s 46ms/step - loss: 0.1653 - accuracy: 0.9534 - val_loss: 0.9641 - val_accuracy: 0.8110\n",
            "Epoch 14/20\n",
            "16/16 [==============================] - 1s 46ms/step - loss: 0.1523 - accuracy: 0.9540 - val_loss: 1.0459 - val_accuracy: 0.8000\n",
            "Epoch 15/20\n",
            "16/16 [==============================] - 1s 47ms/step - loss: 0.1400 - accuracy: 0.9558 - val_loss: 0.9713 - val_accuracy: 0.8210\n",
            "Epoch 16/20\n",
            "16/16 [==============================] - 1s 46ms/step - loss: 0.1365 - accuracy: 0.9564 - val_loss: 1.0510 - val_accuracy: 0.8020\n",
            "Epoch 17/20\n",
            "16/16 [==============================] - 1s 46ms/step - loss: 0.1272 - accuracy: 0.9565 - val_loss: 1.0219 - val_accuracy: 0.8110\n",
            "Epoch 18/20\n",
            "16/16 [==============================] - 1s 47ms/step - loss: 0.1167 - accuracy: 0.9579 - val_loss: 1.0640 - val_accuracy: 0.8030\n",
            "Epoch 19/20\n",
            "16/16 [==============================] - 1s 46ms/step - loss: 0.1165 - accuracy: 0.9570 - val_loss: 1.0968 - val_accuracy: 0.8060\n",
            "Epoch 20/20\n",
            "16/16 [==============================] - 1s 46ms/step - loss: 0.1134 - accuracy: 0.9580 - val_loss: 1.1054 - val_accuracy: 0.8040\n"
          ]
        }
      ]
    },
    {
      "cell_type": "markdown",
      "metadata": {
        "id": "Rq5P0gWQ3oh5"
      },
      "source": [
        "Let's display its loss and accuracy curves to help identify when it starts to overfit."
      ]
    },
    {
      "cell_type": "code",
      "metadata": {
        "id": "EIRFHE0U3oh5",
        "colab": {
          "base_uri": "https://localhost:8080/",
          "height": 295
        },
        "outputId": "c4f783f3-b3c0-4bfe-92d3-b459c7458abe"
      },
      "source": [
        "import matplotlib.pyplot as plt\n",
        "\n",
        "# TODO: plot the model loss on both training and validation data.\n",
        "history_dict = history.history\n",
        "history_dict.keys() \n",
        "\n",
        "loss = history.history['loss']\n",
        "val_loss = history.history['val_loss']\n",
        "acc = history.history['accuracy']\n",
        "val_acc = history.history['val_accuracy']\n",
        "\n",
        "epochs = range(1, len(acc) + 1)\n",
        "\n",
        "# \"bo\" is for \"blue dot\"\n",
        "plt.plot(epochs, loss, 'bo', label='Training loss')\n",
        "# b is for \"solid blue line\"\n",
        "plt.plot(epochs, val_loss, 'b', label='Validation loss')\n",
        "plt.title('Training and validation loss')\n",
        "plt.xlabel('Epochs')\n",
        "plt.ylabel('Loss')\n",
        "plt.legend()\n",
        "\n",
        "plt.show()"
      ],
      "execution_count": null,
      "outputs": [
        {
          "output_type": "display_data",
          "data": {
            "text/plain": [
              "<Figure size 432x288 with 1 Axes>"
            ],
            "image/png": "[encoded data removed]"
          },
          "metadata": {
            "needs_background": "light"
          }
        }
      ]
    },
    {
      "cell_type": "code",
      "metadata": {
        "id": "M69rtt143oh6",
        "colab": {
          "base_uri": "https://localhost:8080/",
          "height": 295
        },
        "outputId": "09ece015-60ca-491f-ec2d-3e31bffbf718"
      },
      "source": [
        "# TODO: plot prediction accuracy on both training and validation data. \n",
        "plt.clf()   # clear figure\n",
        "acc = history.history['accuracy']\n",
        "val_acc = history.history['val_accuracy']\n",
        "\n",
        "plt.plot(epochs, acc, 'bo', label='Training acc')\n",
        "plt.plot(epochs, val_acc, 'b', label='Validation acc')\n",
        "plt.title('Training and validation accuracy')\n",
        "plt.xlabel('Epochs')\n",
        "plt.ylabel('Accuracy')\n",
        "plt.legend()\n",
        "\n",
        "plt.show()"
      ],
      "execution_count": null,
      "outputs": [
        {
          "output_type": "display_data",
          "data": {
            "text/plain": [
              "<Figure size 432x288 with 1 Axes>"
            ],
            "image/png": "[encoded data removed]"
          },
          "metadata": {
            "needs_background": "light"
          }
        }
      ]
    },
    {
      "cell_type": "markdown",
      "metadata": {
        "id": "LUarkgZd3oh7"
      },
      "source": [
        "It seems that the network starts overfitting after certain epochs. Let's train a new network from scratch for fewer epochs before it starts overfitting, then let's evaluate it on the test set:"
      ]
    },
    {
      "cell_type": "code",
      "metadata": {
        "id": "IciZ2dMP3oh8",
        "colab": {
          "base_uri": "https://localhost:8080/"
        },
        "outputId": "6f0d7b03-6e84-475d-8ea4-b9759db39097"
      },
      "source": [
        "# TODO: retrain the model with the fewer epoches to avoid overfitting\n",
        "# As seen in the model fitting step, at epoch 9 the loss for validation data set starts increasing. \n",
        "# Thus we try with epochs = 9\n",
        "\n",
        "model = models.Sequential()\n",
        "model.add(layers.Dense(64, activation='relu',input_shape=(10000,)))\n",
        "model.add(layers.Dense(64, activation='relu'))\n",
        "model.add(layers.Dense(46, activation='softmax'))\n",
        "print(model.summary())\n",
        "model.compile(loss='categorical_crossentropy', optimizer='rmsprop',metrics=['accuracy'])\n",
        "\n",
        "# TODO: train the neural network and store the result to a variable *history*\n",
        "\n",
        "history = model.fit(partial_x_train, \n",
        "                    partial_y_train,\n",
        "                    epochs=9,\n",
        "                    batch_size=512,\n",
        "                    verbose=1,\n",
        "                    validation_data=(x_val,y_val))\n",
        "result = model.evaluate(x_test, one_hot_test_labels)\n",
        "result"
      ],
      "execution_count": null,
      "outputs": [
        {
          "output_type": "stream",
          "name": "stdout",
          "text": [
            "Model: \"sequential_1\"\n",
            "_________________________________________________________________\n",
            " Layer (type)                Output Shape              Param #   \n",
            "=================================================================\n",
            " dense_3 (Dense)             (None, 64)                640064    \n",
            "                                                                 \n",
            " dense_4 (Dense)             (None, 64)                4160      \n",
            "                                                                 \n",
            " dense_5 (Dense)             (None, 46)                2990      \n",
            "                                                                 \n",
            "=================================================================\n",
            "Total params: 647,214\n",
            "Trainable params: 647,214\n",
            "Non-trainable params: 0\n",
            "_________________________________________________________________\n",
            "None\n",
            "Epoch 1/9\n",
            "16/16 [==============================] - 1s 57ms/step - loss: 2.5978 - accuracy: 0.5396 - val_loss: 1.7325 - val_accuracy: 0.6590\n",
            "Epoch 2/9\n",
            "16/16 [==============================] - 1s 48ms/step - loss: 1.4044 - accuracy: 0.7149 - val_loss: 1.2940 - val_accuracy: 0.7070\n",
            "Epoch 3/9\n",
            "16/16 [==============================] - 1s 47ms/step - loss: 1.0343 - accuracy: 0.7785 - val_loss: 1.1327 - val_accuracy: 0.7540\n",
            "Epoch 4/9\n",
            "16/16 [==============================] - 1s 46ms/step - loss: 0.8124 - accuracy: 0.8316 - val_loss: 1.0362 - val_accuracy: 0.7820\n",
            "Epoch 5/9\n",
            "16/16 [==============================] - 1s 45ms/step - loss: 0.6450 - accuracy: 0.8677 - val_loss: 0.9634 - val_accuracy: 0.8090\n",
            "Epoch 6/9\n",
            "16/16 [==============================] - 1s 46ms/step - loss: 0.5133 - accuracy: 0.8964 - val_loss: 0.9278 - val_accuracy: 0.8130\n",
            "Epoch 7/9\n",
            "16/16 [==============================] - 1s 47ms/step - loss: 0.4084 - accuracy: 0.9169 - val_loss: 0.9173 - val_accuracy: 0.8060\n",
            "Epoch 8/9\n",
            "16/16 [==============================] - 1s 45ms/step - loss: 0.3337 - accuracy: 0.9313 - val_loss: 0.8983 - val_accuracy: 0.8140\n",
            "Epoch 9/9\n",
            "16/16 [==============================] - 1s 47ms/step - loss: 0.2811 - accuracy: 0.9390 - val_loss: 0.8960 - val_accuracy: 0.8220\n",
            "71/71 [==============================] - 0s 3ms/step - loss: 0.9888 - accuracy: 0.7867\n"
          ]
        },
        {
          "output_type": "execute_result",
          "data": {
            "text/plain": [
              "[0.988793134689331, 0.7867319583892822]"
            ]
          },
          "metadata": {},
          "execution_count": 14
        }
      ]
    },
    {
      "cell_type": "markdown",
      "metadata": {
        "id": "XQ3VcXyx3oh_"
      },
      "source": [
        "\n",
        "Your model should reach an accuracy of ~78%. With a balanced binary classification problem, the accuracy reached by a purely random classifier \n",
        "would be 50%, but in our case it is closer to 19%, so our results seem pretty good, at least when compared to a random baseline."
      ]
    },
    {
      "cell_type": "markdown",
      "metadata": {
        "id": "FEzjb1m33oiA"
      },
      "source": [
        "## Generating predictions on new data\n",
        "\n",
        "We can verify that the `predict` method of our model instance returns a probability distribution over all 46 topics. Let's generate topic \n",
        "predictions for all of the test data:"
      ]
    },
    {
      "cell_type": "code",
      "metadata": {
        "id": "lIuTWvUq3oiB",
        "colab": {
          "base_uri": "https://localhost:8080/"
        },
        "outputId": "53a21d89-6ef3-4902-bbc4-25cb865d6680"
      },
      "source": [
        "# TODO: use the learnt neural network to make a prediction on \n",
        "# the test data \n",
        "m_predict = model.predict(x_test)\n",
        "m_predict.shape"
      ],
      "execution_count": null,
      "outputs": [
        {
          "output_type": "execute_result",
          "data": {
            "text/plain": [
              "(2246, 46)"
            ]
          },
          "metadata": {},
          "execution_count": 15
        }
      ]
    },
    {
      "cell_type": "markdown",
      "metadata": {
        "id": "O1LzmGXx3oiB"
      },
      "source": [
        "Each entry in `predictions` is a vector of length 46. **The** largest entry is the predicted class, i.e. the class with the highest probability:"
      ]
    },
    {
      "cell_type": "code",
      "metadata": {
        "id": "L3RyKAsw3oiB",
        "colab": {
          "base_uri": "https://localhost:8080/"
        },
        "outputId": "20ef35c8-3d57-456f-938e-93ecd0fcadb0"
      },
      "source": [
        "# TODO: evaluate model performan in terms of accuracy on prediction against the ground truth.\n",
        "# m_predict[0]\n",
        "np.argmax(m_predict[0])\n",
        "np.argmax(m_predict[1])"
      ],
      "execution_count": null,
      "outputs": [
        {
          "output_type": "execute_result",
          "data": {
            "text/plain": [
              "10"
            ]
          },
          "metadata": {},
          "execution_count": 16
        }
      ]
    },
    {
      "cell_type": "markdown",
      "metadata": {
        "id": "Pw3GlSYG3oiH"
      },
      "source": [
        "## On the importance of having sufficiently large intermediate layers\n",
        "\n",
        "\n",
        "We mentioned earlier that since our final outputs were 46-dimensional, we should avoid intermediate layers with much less than 46 hidden \n",
        "units. Now let's try to see what happens when we introduce an information bottleneck by having intermediate layers significantly less than \n",
        "46-dimensional, e.g. 4-dimensional."
      ]
    },
    {
      "cell_type": "code",
      "metadata": {
        "id": "emfKokRe3oiH",
        "colab": {
          "base_uri": "https://localhost:8080/"
        },
        "outputId": "a0253986-dead-435f-b8c5-2a6f5cb3f12f"
      },
      "source": [
        "# TODO: build a neural network with 4 neuron units in the hidden layer with the validation data \n",
        "# and evaluate its performance on the test data.\n",
        "model = models.Sequential()\n",
        "model.add(layers.Dense(64, activation='relu',input_shape=(10000,)))\n",
        "model.add(layers.Dense(4, activation='relu'))\n",
        "model.add(layers.Dense(46, activation='softmax'))\n",
        "\n",
        "model.compile(loss='categorical_crossentropy', optimizer='rmsprop',metrics=['accuracy'])\n",
        "\n",
        "# TODO: train the neural network and store the result to a variable *history*\n",
        "\n",
        "history = model.fit(partial_x_train, \n",
        "                    partial_y_train,\n",
        "                    epochs=9,\n",
        "                    batch_size=512,\n",
        "                    validation_data=(x_val,y_val))\n",
        "result = model.evaluate(x_test, one_hot_test_labels)\n",
        "result"
      ],
      "execution_count": null,
      "outputs": [
        {
          "output_type": "stream",
          "name": "stdout",
          "text": [
            "Epoch 1/9\n",
            "16/16 [==============================] - 2s 60ms/step - loss: 3.4119 - accuracy: 0.0713 - val_loss: 3.0247 - val_accuracy: 0.1060\n",
            "Epoch 2/9\n",
            "16/16 [==============================] - 1s 46ms/step - loss: 2.7120 - accuracy: 0.3266 - val_loss: 2.4376 - val_accuracy: 0.5600\n",
            "Epoch 3/9\n",
            "16/16 [==============================] - 1s 46ms/step - loss: 2.1366 - accuracy: 0.6019 - val_loss: 1.9733 - val_accuracy: 0.5870\n",
            "Epoch 4/9\n",
            "16/16 [==============================] - 1s 45ms/step - loss: 1.7260 - accuracy: 0.6151 - val_loss: 1.7011 - val_accuracy: 0.5970\n",
            "Epoch 5/9\n",
            "16/16 [==============================] - 1s 45ms/step - loss: 1.4852 - accuracy: 0.6285 - val_loss: 1.5456 - val_accuracy: 0.6180\n",
            "Epoch 6/9\n",
            "16/16 [==============================] - 1s 46ms/step - loss: 1.3394 - accuracy: 0.6536 - val_loss: 1.4657 - val_accuracy: 0.6270\n",
            "Epoch 7/9\n",
            "16/16 [==============================] - 1s 45ms/step - loss: 1.2383 - accuracy: 0.6785 - val_loss: 1.4088 - val_accuracy: 0.6490\n",
            "Epoch 8/9\n",
            "16/16 [==============================] - 1s 46ms/step - loss: 1.1601 - accuracy: 0.6982 - val_loss: 1.3737 - val_accuracy: 0.6660\n",
            "Epoch 9/9\n",
            "16/16 [==============================] - 1s 44ms/step - loss: 1.0926 - accuracy: 0.7167 - val_loss: 1.3569 - val_accuracy: 0.6600\n",
            "71/71 [==============================] - 0s 3ms/step - loss: 1.4137 - accuracy: 0.6536\n"
          ]
        },
        {
          "output_type": "execute_result",
          "data": {
            "text/plain": [
              "[1.4136863946914673, 0.6536064147949219]"
            ]
          },
          "metadata": {},
          "execution_count": 17
        }
      ]
    },
    {
      "cell_type": "markdown",
      "metadata": {
        "id": "M6wV_AR23oiI"
      },
      "source": [
        "\n",
        "You should see the model performance drop. This drop is mostly due to the fact that we are now trying to compress a lot of information (enough information to recover the separation hyperplanes of 46 classes) into an intermediate space that is too low-dimensional. The network is able to cram _most_ of the necessary information into these 8-dimensional representations, but not all of it."
      ]
    },
    {
      "cell_type": "markdown",
      "metadata": {
        "id": "8bFLuR8b3oiI"
      },
      "source": [
        "## Try using larger or smaller hidden layers: 32 units, and 128 units, and see if you will be able to improve the model performance on the test data.\n"
      ]
    },
    {
      "cell_type": "code",
      "metadata": {
        "id": "B1v7pFMGrEik",
        "colab": {
          "base_uri": "https://localhost:8080/"
        },
        "outputId": "73d7b476-8fe5-42db-87a8-f53dd2af3b24"
      },
      "source": [
        "# TODO: Try using larger or smaller hidden layers: 128 units\n",
        "model = models.Sequential()\n",
        "model.add(layers.Dense(64, activation='relu',input_shape=(10000,)))\n",
        "model.add(layers.Dense(128, activation='relu'))\n",
        "model.add(layers.Dense(46, activation='softmax'))\n",
        "\n",
        "model.compile(loss='categorical_crossentropy', optimizer='rmsprop',metrics=['accuracy'])\n",
        "\n",
        "# TODO: train the neural network and store the result to a variable *history*\n",
        "\n",
        "history = model.fit(partial_x_train, \n",
        "                    partial_y_train,\n",
        "                    epochs=9,\n",
        "                    batch_size=512,\n",
        "                    validation_data=(x_val,y_val))\n",
        "result = model.evaluate(x_test, one_hot_test_labels)\n",
        "result"
      ],
      "execution_count": null,
      "outputs": [
        {
          "output_type": "stream",
          "name": "stdout",
          "text": [
            "Epoch 1/9\n",
            "16/16 [==============================] - 1s 59ms/step - loss: 2.4961 - accuracy: 0.4762 - val_loss: 1.6205 - val_accuracy: 0.6440\n",
            "Epoch 2/9\n",
            "16/16 [==============================] - 1s 45ms/step - loss: 1.3483 - accuracy: 0.7126 - val_loss: 1.2726 - val_accuracy: 0.7250\n",
            "Epoch 3/9\n",
            "16/16 [==============================] - 1s 47ms/step - loss: 1.0055 - accuracy: 0.7858 - val_loss: 1.1071 - val_accuracy: 0.7520\n",
            "Epoch 4/9\n",
            "16/16 [==============================] - 1s 47ms/step - loss: 0.7837 - accuracy: 0.8336 - val_loss: 1.0102 - val_accuracy: 0.7780\n",
            "Epoch 5/9\n",
            "16/16 [==============================] - 1s 47ms/step - loss: 0.6137 - accuracy: 0.8701 - val_loss: 0.9535 - val_accuracy: 0.8000\n",
            "Epoch 6/9\n",
            "16/16 [==============================] - 1s 46ms/step - loss: 0.4839 - accuracy: 0.8955 - val_loss: 0.9036 - val_accuracy: 0.8160\n",
            "Epoch 7/9\n",
            "16/16 [==============================] - 1s 47ms/step - loss: 0.3813 - accuracy: 0.9192 - val_loss: 0.9254 - val_accuracy: 0.8030\n",
            "Epoch 8/9\n",
            "16/16 [==============================] - 1s 46ms/step - loss: 0.3076 - accuracy: 0.9325 - val_loss: 0.9023 - val_accuracy: 0.8100\n",
            "Epoch 9/9\n",
            "16/16 [==============================] - 1s 45ms/step - loss: 0.2529 - accuracy: 0.9412 - val_loss: 0.9414 - val_accuracy: 0.8010\n",
            "71/71 [==============================] - 0s 3ms/step - loss: 1.0193 - accuracy: 0.7823\n"
          ]
        },
        {
          "output_type": "execute_result",
          "data": {
            "text/plain": [
              "[1.0192670822143555, 0.7822796106338501]"
            ]
          },
          "metadata": {},
          "execution_count": 18
        }
      ]
    },
    {
      "cell_type": "code",
      "source": [
        "# TODO: Try using larger or smaller hidden layers: 32 units\n",
        "model = models.Sequential()\n",
        "model.add(layers.Dense(64, activation='relu',input_shape=(10000,)))\n",
        "model.add(layers.Dense(32, activation='relu'))\n",
        "model.add(layers.Dense(46, activation='softmax'))\n",
        "\n",
        "model.compile(loss='categorical_crossentropy', optimizer='rmsprop',metrics=['accuracy'])\n",
        "\n",
        "# TODO: train the neural network and store the result to a variable *history*\n",
        "\n",
        "history = model.fit(partial_x_train, \n",
        "                    partial_y_train,\n",
        "                    epochs=9,\n",
        "                    batch_size=512,\n",
        "                    validation_data=(x_val,y_val))\n",
        "result = model.evaluate(x_test, one_hot_test_labels)\n",
        "result"
      ],
      "metadata": {
        "colab": {
          "base_uri": "https://localhost:8080/"
        },
        "id": "k508U1MDehQV",
        "outputId": "eefc615d-40c0-410c-b373-24fa1e1c1ad0"
      },
      "execution_count": null,
      "outputs": [
        {
          "output_type": "stream",
          "name": "stdout",
          "text": [
            "Epoch 1/9\n",
            "16/16 [==============================] - 1s 56ms/step - loss: 2.9009 - accuracy: 0.4822 - val_loss: 2.0126 - val_accuracy: 0.6260\n",
            "Epoch 2/9\n",
            "16/16 [==============================] - 1s 46ms/step - loss: 1.6225 - accuracy: 0.6800 - val_loss: 1.4649 - val_accuracy: 0.6820\n",
            "Epoch 3/9\n",
            "16/16 [==============================] - 1s 45ms/step - loss: 1.1962 - accuracy: 0.7442 - val_loss: 1.2919 - val_accuracy: 0.7120\n",
            "Epoch 4/9\n",
            "16/16 [==============================] - 1s 44ms/step - loss: 0.9583 - accuracy: 0.7876 - val_loss: 1.1384 - val_accuracy: 0.7490\n",
            "Epoch 5/9\n",
            "16/16 [==============================] - 1s 45ms/step - loss: 0.7795 - accuracy: 0.8336 - val_loss: 1.0499 - val_accuracy: 0.7750\n",
            "Epoch 6/9\n",
            "16/16 [==============================] - 1s 44ms/step - loss: 0.6386 - accuracy: 0.8681 - val_loss: 0.9835 - val_accuracy: 0.7970\n",
            "Epoch 7/9\n",
            "16/16 [==============================] - 1s 44ms/step - loss: 0.5243 - accuracy: 0.8951 - val_loss: 0.9464 - val_accuracy: 0.8010\n",
            "Epoch 8/9\n",
            "16/16 [==============================] - 1s 44ms/step - loss: 0.4353 - accuracy: 0.9113 - val_loss: 0.9071 - val_accuracy: 0.8110\n",
            "Epoch 9/9\n",
            "16/16 [==============================] - 1s 45ms/step - loss: 0.3605 - accuracy: 0.9276 - val_loss: 0.9019 - val_accuracy: 0.8150\n",
            "71/71 [==============================] - 0s 3ms/step - loss: 0.9810 - accuracy: 0.7876\n"
          ]
        },
        {
          "output_type": "execute_result",
          "data": {
            "text/plain": [
              "[0.98097825050354, 0.7876224517822266]"
            ]
          },
          "metadata": {},
          "execution_count": 19
        }
      ]
    },
    {
      "cell_type": "markdown",
      "metadata": {
        "id": "qJ1JPiTErD7X"
      },
      "source": [
        "\n",
        "## We were using two hidden layers. Now try to use a single hidden layer, or three hidden layers, and see if you will be able to improve the model performance on the test data.\n",
        "\n"
      ]
    },
    {
      "cell_type": "code",
      "metadata": {
        "id": "6zukIClyrh3k",
        "colab": {
          "base_uri": "https://localhost:8080/"
        },
        "outputId": "6a545967-fcf7-43e2-c9e7-f4c896e21105"
      },
      "source": [
        "# TODO: Try to use a single hidden layer, or three hidden layers\n",
        "model = models.Sequential()\n",
        "model.add(layers.Dense(64, activation='relu',input_shape=(10000,)))\n",
        "model.add(layers.Dense(46, activation='softmax'))\n",
        "\n",
        "model.compile(loss='categorical_crossentropy', optimizer='rmsprop',metrics=['accuracy'])\n",
        "\n",
        "# TODO: train the neural network and store the result to a variable *history*\n",
        "\n",
        "history = model.fit(partial_x_train, \n",
        "                    partial_y_train,\n",
        "                    epochs=9,\n",
        "                    batch_size=512,\n",
        "                    validation_data=(x_val,y_val))\n",
        "result = model.evaluate(x_test, one_hot_test_labels)\n",
        "result"
      ],
      "execution_count": null,
      "outputs": [
        {
          "output_type": "stream",
          "name": "stdout",
          "text": [
            "Epoch 1/9\n",
            "16/16 [==============================] - 1s 57ms/step - loss: 2.6891 - accuracy: 0.5615 - val_loss: 1.9084 - val_accuracy: 0.6470\n",
            "Epoch 2/9\n",
            "16/16 [==============================] - 1s 46ms/step - loss: 1.5247 - accuracy: 0.7195 - val_loss: 1.3906 - val_accuracy: 0.7080\n",
            "Epoch 3/9\n",
            "16/16 [==============================] - 1s 48ms/step - loss: 1.0944 - accuracy: 0.7814 - val_loss: 1.1504 - val_accuracy: 0.7610\n",
            "Epoch 4/9\n",
            "16/16 [==============================] - 1s 45ms/step - loss: 0.8432 - accuracy: 0.8330 - val_loss: 1.0357 - val_accuracy: 0.7860\n",
            "Epoch 5/9\n",
            "16/16 [==============================] - 1s 46ms/step - loss: 0.6736 - accuracy: 0.8672 - val_loss: 0.9536 - val_accuracy: 0.7970\n",
            "Epoch 6/9\n",
            "16/16 [==============================] - 1s 45ms/step - loss: 0.5495 - accuracy: 0.8918 - val_loss: 0.8976 - val_accuracy: 0.8120\n",
            "Epoch 7/9\n",
            "16/16 [==============================] - 1s 45ms/step - loss: 0.4520 - accuracy: 0.9102 - val_loss: 0.8621 - val_accuracy: 0.8210\n",
            "Epoch 8/9\n",
            "16/16 [==============================] - 1s 46ms/step - loss: 0.3762 - accuracy: 0.9241 - val_loss: 0.8489 - val_accuracy: 0.8200\n",
            "Epoch 9/9\n",
            "16/16 [==============================] - 1s 45ms/step - loss: 0.3189 - accuracy: 0.9337 - val_loss: 0.8319 - val_accuracy: 0.8220\n",
            "71/71 [==============================] - 0s 4ms/step - loss: 0.9169 - accuracy: 0.7970\n"
          ]
        },
        {
          "output_type": "execute_result",
          "data": {
            "text/plain": [
              "[0.9168838262557983, 0.796972393989563]"
            ]
          },
          "metadata": {},
          "execution_count": 20
        }
      ]
    },
    {
      "cell_type": "code",
      "source": [
        "# TODO: Try using larger or smaller hidden layers: 32 units, and 128 units\n",
        "model = models.Sequential()\n",
        "model.add(layers.Dense(64, activation='relu',input_shape=(10000,)))\n",
        "model.add(layers.Dense(64, activation='relu'))\n",
        "model.add(layers.Dense(64, activation='relu'))\n",
        "model.add(layers.Dense(46, activation='softmax'))\n",
        "\n",
        "model.compile(loss='categorical_crossentropy', optimizer='rmsprop',metrics=['accuracy'])\n",
        "\n",
        "# TODO: train the neural network and store the result to a variable *history*\n",
        "\n",
        "history = model.fit(partial_x_train, \n",
        "                    partial_y_train,\n",
        "                    epochs=9,\n",
        "                    batch_size=512,\n",
        "                    validation_data=(x_val,y_val))\n",
        "result = model.evaluate(x_test, one_hot_test_labels)\n",
        "result"
      ],
      "metadata": {
        "colab": {
          "base_uri": "https://localhost:8080/"
        },
        "id": "0D95ppAcewyP",
        "outputId": "841098c3-692c-4fe8-aa06-0b54ad519b05"
      },
      "execution_count": null,
      "outputs": [
        {
          "output_type": "stream",
          "name": "stdout",
          "text": [
            "Epoch 1/9\n",
            "16/16 [==============================] - 2s 60ms/step - loss: 2.7420 - accuracy: 0.4554 - val_loss: 1.7758 - val_accuracy: 0.6190\n",
            "Epoch 2/9\n",
            "16/16 [==============================] - 1s 49ms/step - loss: 1.4772 - accuracy: 0.6823 - val_loss: 1.3740 - val_accuracy: 0.6940\n",
            "Epoch 3/9\n",
            "16/16 [==============================] - 1s 48ms/step - loss: 1.1136 - accuracy: 0.7534 - val_loss: 1.2136 - val_accuracy: 0.7280\n",
            "Epoch 4/9\n",
            "16/16 [==============================] - 1s 48ms/step - loss: 0.8735 - accuracy: 0.8138 - val_loss: 1.0917 - val_accuracy: 0.7630\n",
            "Epoch 5/9\n",
            "16/16 [==============================] - 1s 47ms/step - loss: 0.6949 - accuracy: 0.8528 - val_loss: 1.0769 - val_accuracy: 0.7640\n",
            "Epoch 6/9\n",
            "16/16 [==============================] - 1s 48ms/step - loss: 0.5592 - accuracy: 0.8816 - val_loss: 0.9832 - val_accuracy: 0.8120\n",
            "Epoch 7/9\n",
            "16/16 [==============================] - 1s 46ms/step - loss: 0.4402 - accuracy: 0.9055 - val_loss: 0.9586 - val_accuracy: 0.8150\n",
            "Epoch 8/9\n",
            "16/16 [==============================] - 1s 46ms/step - loss: 0.3646 - accuracy: 0.9219 - val_loss: 1.0507 - val_accuracy: 0.7850\n",
            "Epoch 9/9\n",
            "16/16 [==============================] - 1s 47ms/step - loss: 0.2917 - accuracy: 0.9351 - val_loss: 0.9784 - val_accuracy: 0.8100\n",
            "71/71 [==============================] - 0s 4ms/step - loss: 1.0574 - accuracy: 0.7823\n"
          ]
        },
        {
          "output_type": "execute_result",
          "data": {
            "text/plain": [
              "[1.0573679208755493, 0.7822796106338501]"
            ]
          },
          "metadata": {},
          "execution_count": 21
        }
      ]
    },
    {
      "cell_type": "markdown",
      "metadata": {
        "id": "gldwCoKB3oiI"
      },
      "source": [
        "## Wrapping up\n",
        "\n",
        "\n",
        "Here's what you should take away from this example:\n",
        "\n",
        "* If you are trying to classify data points between N classes, your network should end with a `Dense` layer of size N.\n",
        "* In a single-label, multi-class classification problem, your network should end with a `softmax` activation, so that it will output a \n",
        "probability distribution over the N output classes.\n",
        "* _Categorical crossentropy_ is almost always the loss function you should use for such problems. It minimizes the distance between the \n",
        "probability distributions output by the network, and the true distribution of the targets.\n",
        "* There are two ways to handle labels in multi-class classification:\n",
        "    ** Encoding the labels via \"categorical encoding\" (also known as \"one-hot encoding\") and using `categorical_crossentropy` as your loss \n",
        "function.\n",
        "    ** Encoding the labels as integers and using the `sparse_categorical_crossentropy` loss function.\n",
        "* If you need to classify data into a large number of categories, then you should avoid creating information bottlenecks in your network by having \n",
        "intermediate layers that are too small."
      ]
    },
    {
      "cell_type": "markdown",
      "metadata": {
        "id": "aKekl-HuGXiU"
      },
      "source": [
        "## Bonus Point\n",
        "Can you think of other methods to further improve the model performance? Code it up and evaluate them."
      ]
    },
    {
      "cell_type": "markdown",
      "source": [
        "**Early stopping:**\n",
        "Early stopping enables us to discontinue training the model when the validation score stops improving. This allows us to save some time and avoid overfitting our model. To account for underfitting we can set the number of training epochs to a very large number and allow early stopping to take care of the rest.\n",
        "\n",
        "**Droput:**\n",
        "In a dropout layer, random neurons are dropped in each batch, i.e. their weighted updates are not sent to the next neural layer. Just as with random forests, the end result is that the neural network can be thought of as many independent models that vote on the final output.\n",
        "When a network does not contain dropout layers, and has a capacity that exceeds that which would be suited for the true, underlying complexity level of the data, it can begin to fit to noise.\n"
      ],
      "metadata": {
        "id": "fx9vmvBy1Gfi"
      }
    },
    {
      "cell_type": "code",
      "metadata": {
        "id": "38I30otcrO-r",
        "colab": {
          "base_uri": "https://localhost:8080/"
        },
        "outputId": "a699db37-acd2-46e7-add6-07b8bfd81060"
      },
      "source": [
        "early_stopping = EarlyStopping(\n",
        "    min_delta=0.001, # minimium amount of change to count as an improvement\n",
        "    patience=15, # how many epochs to wait before stopping\n",
        "    restore_best_weights=True,\n",
        ")\n",
        "\n",
        "model = models.Sequential()\n",
        "model.add(layers.Dense(64, activation='relu',input_shape=(10000,)))\n",
        "layers.Dropout(0.3),\n",
        "model.add(layers.Dense(64, activation='relu'))\n",
        "layers.Dropout(0.3),\n",
        "model.add(layers.Dense(64, activation='relu'))\n",
        "layers.Dropout(0.3),\n",
        "model.add(layers.Dense(64, activation='relu'))\n",
        "layers.Dropout(0.3),\n",
        "model.add(layers.Dense(64, activation='relu'))\n",
        "model.add(layers.Dense(46, activation='softmax'))\n",
        "\n",
        "model.compile(loss='categorical_crossentropy', optimizer='rmsprop',metrics=['accuracy'])\n",
        "\n",
        "# TODO: train the neural network and store the result to a variable *history*\n",
        "\n",
        "history = model.fit(partial_x_train, \n",
        "                    partial_y_train,\n",
        "                    epochs=1000,\n",
        "                    batch_size=512,\n",
        "                    verbose=1,\n",
        "                    callbacks=[early_stopping],\n",
        "                    validation_data=(x_val,y_val))\n",
        "result = model.evaluate(x_test, one_hot_test_labels)\n",
        "result\n",
        "\n",
        "\n",
        "    "
      ],
      "execution_count": null,
      "outputs": [
        {
          "output_type": "stream",
          "name": "stdout",
          "text": [
            "Epoch 1/1000\n",
            "16/16 [==============================] - 2s 63ms/step - loss: 2.8429 - accuracy: 0.4126 - val_loss: 1.8034 - val_accuracy: 0.5730\n",
            "Epoch 2/1000\n",
            "16/16 [==============================] - 1s 49ms/step - loss: 1.5831 - accuracy: 0.6367 - val_loss: 1.4411 - val_accuracy: 0.6700\n",
            "Epoch 3/1000\n",
            "16/16 [==============================] - 1s 49ms/step - loss: 1.2439 - accuracy: 0.7134 - val_loss: 1.3170 - val_accuracy: 0.7100\n",
            "Epoch 4/1000\n",
            "16/16 [==============================] - 1s 49ms/step - loss: 1.0495 - accuracy: 0.7519 - val_loss: 1.2339 - val_accuracy: 0.7100\n",
            "Epoch 5/1000\n",
            "16/16 [==============================] - 1s 47ms/step - loss: 0.8868 - accuracy: 0.7874 - val_loss: 1.1920 - val_accuracy: 0.7370\n",
            "Epoch 6/1000\n",
            "16/16 [==============================] - 1s 48ms/step - loss: 0.7518 - accuracy: 0.8131 - val_loss: 1.2073 - val_accuracy: 0.7330\n",
            "Epoch 7/1000\n",
            "16/16 [==============================] - 1s 49ms/step - loss: 0.6354 - accuracy: 0.8415 - val_loss: 1.1348 - val_accuracy: 0.7670\n",
            "Epoch 8/1000\n",
            "16/16 [==============================] - 1s 48ms/step - loss: 0.5262 - accuracy: 0.8683 - val_loss: 1.1562 - val_accuracy: 0.7560\n",
            "Epoch 9/1000\n",
            "16/16 [==============================] - 1s 78ms/step - loss: 0.4659 - accuracy: 0.8827 - val_loss: 1.1177 - val_accuracy: 0.7760\n",
            "Epoch 10/1000\n",
            "16/16 [==============================] - 1s 74ms/step - loss: 0.3463 - accuracy: 0.9177 - val_loss: 1.1877 - val_accuracy: 0.7700\n",
            "Epoch 11/1000\n",
            "16/16 [==============================] - 1s 75ms/step - loss: 0.2962 - accuracy: 0.9266 - val_loss: 1.2280 - val_accuracy: 0.7780\n",
            "Epoch 12/1000\n",
            "16/16 [==============================] - 1s 48ms/step - loss: 0.2464 - accuracy: 0.9419 - val_loss: 1.1928 - val_accuracy: 0.7830\n",
            "Epoch 13/1000\n",
            "16/16 [==============================] - 1s 46ms/step - loss: 0.2254 - accuracy: 0.9456 - val_loss: 1.3093 - val_accuracy: 0.7750\n",
            "Epoch 14/1000\n",
            "16/16 [==============================] - 1s 47ms/step - loss: 0.2093 - accuracy: 0.9468 - val_loss: 1.4197 - val_accuracy: 0.7530\n",
            "Epoch 15/1000\n",
            "16/16 [==============================] - 1s 47ms/step - loss: 0.1755 - accuracy: 0.9529 - val_loss: 1.3643 - val_accuracy: 0.7730\n",
            "Epoch 16/1000\n",
            "16/16 [==============================] - 1s 47ms/step - loss: 0.1634 - accuracy: 0.9533 - val_loss: 1.4167 - val_accuracy: 0.7760\n",
            "Epoch 17/1000\n",
            "16/16 [==============================] - 1s 46ms/step - loss: 0.1607 - accuracy: 0.9546 - val_loss: 1.4415 - val_accuracy: 0.7570\n",
            "Epoch 18/1000\n",
            "16/16 [==============================] - 1s 45ms/step - loss: 0.1374 - accuracy: 0.9584 - val_loss: 1.4190 - val_accuracy: 0.7650\n",
            "Epoch 19/1000\n",
            "16/16 [==============================] - 1s 47ms/step - loss: 0.1325 - accuracy: 0.9567 - val_loss: 1.4625 - val_accuracy: 0.7850\n",
            "Epoch 20/1000\n",
            "16/16 [==============================] - 1s 47ms/step - loss: 0.1320 - accuracy: 0.9572 - val_loss: 1.3265 - val_accuracy: 0.7870\n",
            "Epoch 21/1000\n",
            "16/16 [==============================] - 1s 49ms/step - loss: 0.1232 - accuracy: 0.9577 - val_loss: 1.4498 - val_accuracy: 0.7820\n",
            "Epoch 22/1000\n",
            "16/16 [==============================] - 1s 48ms/step - loss: 0.1196 - accuracy: 0.9567 - val_loss: 1.4225 - val_accuracy: 0.7870\n",
            "Epoch 23/1000\n",
            "16/16 [==============================] - 1s 47ms/step - loss: 0.1134 - accuracy: 0.9578 - val_loss: 1.4917 - val_accuracy: 0.7720\n",
            "Epoch 24/1000\n",
            "16/16 [==============================] - 1s 48ms/step - loss: 0.1111 - accuracy: 0.9595 - val_loss: 1.4300 - val_accuracy: 0.7810\n",
            "71/71 [==============================] - 0s 3ms/step - loss: 1.2262 - accuracy: 0.7596\n"
          ]
        },
        {
          "output_type": "execute_result",
          "data": {
            "text/plain": [
              "[1.2261803150177002, 0.7595725655555725]"
            ]
          },
          "metadata": {},
          "execution_count": 22
        }
      ]
    },
    {
      "cell_type": "markdown",
      "metadata": {
        "id": "l7CGM-0QrOrp"
      },
      "source": [
        "# End of HW1"
      ]
    }
  ]
}